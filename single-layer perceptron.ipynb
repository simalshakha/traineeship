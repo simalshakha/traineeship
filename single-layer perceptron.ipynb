{
 "cells": [
  {
   "cell_type": "code",
   "execution_count": 11,
   "id": "db09f96d",
   "metadata": {},
   "outputs": [
    {
     "name": "stdout",
     "output_type": "stream",
     "text": [
      "Weighted sum z: 0.24000000000000002\n",
      "Activation a: 0.5597136492671929\n",
      "Loss: 0.09692603532080621\n",
      "Gradient w.r.t weights: [-0.05425082 -0.02170033]\n",
      "Gradient w.r.t bias: -0.10850164987681855\n",
      "Updated weights: [ 0.40542508 -0.29782997]\n",
      "Updated bias: 0.11085016498768185\n"
     ]
    }
   ],
   "source": [
    "X = np.array([0.5, 0.2])   # Inputs\n",
    "y_true = 1                 # Target\n",
    "weights = np.array([0.4, -0.3])\n",
    "bias = 0.1\n",
    "lr = 0.1  # Learning rate\n",
    "# Weighted sum\n",
    "z = np.dot(X, weights) + bias\n",
    "\n",
    "# Activation output\n",
    "a = sigmoid(z)\n",
    "\n",
    "print(\"Weighted sum z:\", z)\n",
    "print(\"Activation a:\", a)\n",
    "loss = 0.5 * (y_true - a)**2\n",
    "print(\"Loss:\", loss)\n",
    "# Gradients\n",
    "dL_da = a - y_true\n",
    "da_dz = a * (1 - a)\n",
    "dz_dw = X\n",
    "\n",
    "grad_w = dL_da * da_dz * dz_dw\n",
    "grad_b = dL_da * da_dz\n",
    "\n",
    "print(\"Gradient w.r.t weights:\", grad_w)\n",
    "print(\"Gradient w.r.t bias:\", grad_b)\n",
    "weights -= lr * grad_w\n",
    "bias -= lr * grad_b\n",
    "\n",
    "print(\"Updated weights:\", weights)\n",
    "print(\"Updated bias:\", bias)\n"
   ]
  },
  {
   "cell_type": "code",
   "execution_count": null,
   "id": "ded0ec93",
   "metadata": {},
   "outputs": [],
   "source": []
  }
 ],
 "metadata": {
  "kernelspec": {
   "display_name": "Python 3",
   "language": "python",
   "name": "python3"
  },
  "language_info": {
   "codemirror_mode": {
    "name": "ipython",
    "version": 3
   },
   "file_extension": ".py",
   "mimetype": "text/x-python",
   "name": "python",
   "nbconvert_exporter": "python",
   "pygments_lexer": "ipython3",
   "version": "3.11.9"
  }
 },
 "nbformat": 4,
 "nbformat_minor": 5
}
